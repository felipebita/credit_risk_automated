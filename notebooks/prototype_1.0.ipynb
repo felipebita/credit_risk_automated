{
 "cells": [
  {
   "cell_type": "code",
   "execution_count": 1,
   "id": "4acecc12-20bb-4a72-a48e-2a08bae21d2c",
   "metadata": {},
   "outputs": [
    {
     "name": "stdout",
     "output_type": "stream",
     "text": [
      "Collecting scikit-learn\n",
      "  Using cached scikit_learn-1.3.2-cp38-cp38-manylinux_2_17_x86_64.manylinux2014_x86_64.whl.metadata (11 kB)\n",
      "Collecting pandas\n",
      "  Using cached pandas-2.0.3-cp38-cp38-manylinux_2_17_x86_64.manylinux2014_x86_64.whl.metadata (18 kB)\n",
      "Collecting numpy\n",
      "  Using cached numpy-1.24.4-cp38-cp38-manylinux_2_17_x86_64.manylinux2014_x86_64.whl.metadata (5.6 kB)\n",
      "Collecting xgboost\n",
      "  Using cached xgboost-2.0.3-py3-none-manylinux2014_x86_64.whl.metadata (2.0 kB)\n",
      "Collecting category_encoders\n",
      "  Using cached category_encoders-2.6.3-py2.py3-none-any.whl.metadata (8.0 kB)\n",
      "Collecting scipy>=1.5.0 (from scikit-learn)\n",
      "  Using cached scipy-1.10.1-cp38-cp38-manylinux_2_17_x86_64.manylinux2014_x86_64.whl (34.5 MB)\n",
      "Collecting joblib>=1.1.1 (from scikit-learn)\n",
      "  Using cached joblib-1.3.2-py3-none-any.whl.metadata (5.4 kB)\n",
      "Collecting threadpoolctl>=2.0.0 (from scikit-learn)\n",
      "  Using cached threadpoolctl-3.2.0-py3-none-any.whl.metadata (10.0 kB)\n",
      "Requirement already satisfied: python-dateutil>=2.8.2 in /mnt/c/Users/felip/OneDrive/Documents/Projects/credit_risk_automated/venv/lib/python3.8/site-packages (from pandas) (2.8.2)\n",
      "Requirement already satisfied: pytz>=2020.1 in /mnt/c/Users/felip/OneDrive/Documents/Projects/credit_risk_automated/venv/lib/python3.8/site-packages (from pandas) (2023.3.post1)\n",
      "Collecting tzdata>=2022.1 (from pandas)\n",
      "  Using cached tzdata-2023.4-py2.py3-none-any.whl.metadata (1.4 kB)\n",
      "Collecting statsmodels>=0.9.0 (from category_encoders)\n",
      "  Using cached statsmodels-0.14.1-cp38-cp38-manylinux_2_17_x86_64.manylinux2014_x86_64.whl.metadata (9.5 kB)\n",
      "Collecting patsy>=0.5.1 (from category_encoders)\n",
      "  Using cached patsy-0.5.6-py2.py3-none-any.whl.metadata (3.5 kB)\n",
      "Requirement already satisfied: importlib-resources in /mnt/c/Users/felip/OneDrive/Documents/Projects/credit_risk_automated/venv/lib/python3.8/site-packages (from category_encoders) (6.1.1)\n",
      "Requirement already satisfied: six in /mnt/c/Users/felip/OneDrive/Documents/Projects/credit_risk_automated/venv/lib/python3.8/site-packages (from patsy>=0.5.1->category_encoders) (1.16.0)\n",
      "Requirement already satisfied: packaging>=21.3 in /mnt/c/Users/felip/OneDrive/Documents/Projects/credit_risk_automated/venv/lib/python3.8/site-packages (from statsmodels>=0.9.0->category_encoders) (23.2)\n",
      "Requirement already satisfied: zipp>=3.1.0 in /mnt/c/Users/felip/OneDrive/Documents/Projects/credit_risk_automated/venv/lib/python3.8/site-packages (from importlib-resources->category_encoders) (3.17.0)\n",
      "Using cached scikit_learn-1.3.2-cp38-cp38-manylinux_2_17_x86_64.manylinux2014_x86_64.whl (11.1 MB)\n",
      "Using cached pandas-2.0.3-cp38-cp38-manylinux_2_17_x86_64.manylinux2014_x86_64.whl (12.4 MB)\n",
      "Using cached numpy-1.24.4-cp38-cp38-manylinux_2_17_x86_64.manylinux2014_x86_64.whl (17.3 MB)\n",
      "Using cached xgboost-2.0.3-py3-none-manylinux2014_x86_64.whl (297.1 MB)\n",
      "Using cached category_encoders-2.6.3-py2.py3-none-any.whl (81 kB)\n",
      "Using cached joblib-1.3.2-py3-none-any.whl (302 kB)\n",
      "Using cached patsy-0.5.6-py2.py3-none-any.whl (233 kB)\n",
      "Using cached statsmodels-0.14.1-cp38-cp38-manylinux_2_17_x86_64.manylinux2014_x86_64.whl (10.9 MB)\n",
      "Using cached threadpoolctl-3.2.0-py3-none-any.whl (15 kB)\n",
      "Using cached tzdata-2023.4-py2.py3-none-any.whl (346 kB)\n",
      "Installing collected packages: tzdata, threadpoolctl, numpy, joblib, scipy, patsy, pandas, xgboost, statsmodels, scikit-learn, category_encoders\n",
      "Successfully installed category_encoders-2.6.3 joblib-1.3.2 numpy-1.24.4 pandas-2.0.3 patsy-0.5.6 scikit-learn-1.3.2 scipy-1.10.1 statsmodels-0.14.1 threadpoolctl-3.2.0 tzdata-2023.4 xgboost-2.0.3\n",
      "Note: you may need to restart the kernel to use updated packages.\n"
     ]
    }
   ],
   "source": [
    "pip install scikit-learn pandas numpy xgboost category_encoders"
   ]
  },
  {
   "cell_type": "code",
   "execution_count": 8,
   "id": "6cebbf53-f112-4bcc-b221-5373102e585b",
   "metadata": {},
   "outputs": [
    {
     "name": "stdout",
     "output_type": "stream",
     "text": [
      "Requirement already satisfied: scipy in /mnt/c/Users/felip/OneDrive/Documents/Projects/credit_risk_2.0/venv/lib/python3.8/site-packages (1.10.1)\n",
      "Requirement already satisfied: numpy<1.27.0,>=1.19.5 in /mnt/c/Users/felip/OneDrive/Documents/Projects/credit_risk_2.0/venv/lib/python3.8/site-packages (from scipy) (1.24.4)\n",
      "Note: you may need to restart the kernel to use updated packages.\n"
     ]
    }
   ],
   "source": [
    "pip install scipy"
   ]
  },
  {
   "cell_type": "code",
   "execution_count": 8,
   "id": "d72050ae-15a4-4c22-8a48-a19af92d89de",
   "metadata": {},
   "outputs": [
    {
     "name": "stdout",
     "output_type": "stream",
     "text": [
      "Requirement already satisfied: category_encoders in /mnt/c/Users/felip/OneDrive/Documents/Projects/credit_risk_automated/venv/lib/python3.8/site-packages (2.6.3)\n",
      "Requirement already satisfied: numpy>=1.14.0 in /mnt/c/Users/felip/OneDrive/Documents/Projects/credit_risk_automated/venv/lib/python3.8/site-packages (from category_encoders) (1.24.4)\n",
      "Requirement already satisfied: scikit-learn>=0.20.0 in /mnt/c/Users/felip/OneDrive/Documents/Projects/credit_risk_automated/venv/lib/python3.8/site-packages (from category_encoders) (1.3.2)\n",
      "Requirement already satisfied: scipy>=1.0.0 in /mnt/c/Users/felip/OneDrive/Documents/Projects/credit_risk_automated/venv/lib/python3.8/site-packages (from category_encoders) (1.10.1)\n",
      "Requirement already satisfied: statsmodels>=0.9.0 in /mnt/c/Users/felip/OneDrive/Documents/Projects/credit_risk_automated/venv/lib/python3.8/site-packages (from category_encoders) (0.14.1)\n",
      "Requirement already satisfied: pandas>=1.0.5 in /mnt/c/Users/felip/OneDrive/Documents/Projects/credit_risk_automated/venv/lib/python3.8/site-packages (from category_encoders) (2.0.3)\n",
      "Requirement already satisfied: patsy>=0.5.1 in /mnt/c/Users/felip/OneDrive/Documents/Projects/credit_risk_automated/venv/lib/python3.8/site-packages (from category_encoders) (0.5.6)\n",
      "Requirement already satisfied: importlib-resources in /mnt/c/Users/felip/OneDrive/Documents/Projects/credit_risk_automated/venv/lib/python3.8/site-packages (from category_encoders) (6.1.1)\n",
      "Requirement already satisfied: python-dateutil>=2.8.2 in /mnt/c/Users/felip/OneDrive/Documents/Projects/credit_risk_automated/venv/lib/python3.8/site-packages (from pandas>=1.0.5->category_encoders) (2.8.2)\n",
      "Requirement already satisfied: pytz>=2020.1 in /mnt/c/Users/felip/OneDrive/Documents/Projects/credit_risk_automated/venv/lib/python3.8/site-packages (from pandas>=1.0.5->category_encoders) (2023.3.post1)\n",
      "Requirement already satisfied: tzdata>=2022.1 in /mnt/c/Users/felip/OneDrive/Documents/Projects/credit_risk_automated/venv/lib/python3.8/site-packages (from pandas>=1.0.5->category_encoders) (2023.4)\n",
      "Requirement already satisfied: six in /mnt/c/Users/felip/OneDrive/Documents/Projects/credit_risk_automated/venv/lib/python3.8/site-packages (from patsy>=0.5.1->category_encoders) (1.16.0)\n",
      "Requirement already satisfied: joblib>=1.1.1 in /mnt/c/Users/felip/OneDrive/Documents/Projects/credit_risk_automated/venv/lib/python3.8/site-packages (from scikit-learn>=0.20.0->category_encoders) (1.3.2)\n",
      "Requirement already satisfied: threadpoolctl>=2.0.0 in /mnt/c/Users/felip/OneDrive/Documents/Projects/credit_risk_automated/venv/lib/python3.8/site-packages (from scikit-learn>=0.20.0->category_encoders) (3.2.0)\n",
      "Requirement already satisfied: packaging>=21.3 in /mnt/c/Users/felip/OneDrive/Documents/Projects/credit_risk_automated/venv/lib/python3.8/site-packages (from statsmodels>=0.9.0->category_encoders) (23.2)\n",
      "Requirement already satisfied: zipp>=3.1.0 in /mnt/c/Users/felip/OneDrive/Documents/Projects/credit_risk_automated/venv/lib/python3.8/site-packages (from importlib-resources->category_encoders) (3.17.0)\n",
      "Note: you may need to restart the kernel to use updated packages.\n"
     ]
    }
   ],
   "source": [
    "pip install category_encoders"
   ]
  },
  {
   "cell_type": "code",
   "execution_count": 2,
   "id": "2b1a0aa8-258c-42a5-abc7-dab9e75721cf",
   "metadata": {},
   "outputs": [],
   "source": [
    "import numpy             as np\n",
    "import pandas            as pd\n",
    "\n",
    "#models\n",
    "from xgboost                 import XGBClassifier\n",
    "\n",
    "#metrics and assistants\n",
    "from sklearn.metrics         import confusion_matrix, balanced_accuracy_score, precision_score, classification_report, recall_score, f1_score, make_scorer, cohen_kappa_score, roc_curve, auc, brier_score_loss, log_loss\n",
    "from sklearn.model_selection import GridSearchCV, train_test_split, StratifiedKFold\n",
    "from category_encoders       import OneHotEncoder"
   ]
  },
  {
   "cell_type": "code",
   "execution_count": 6,
   "id": "fb1617a0-f490-4834-8028-3c042718115f",
   "metadata": {},
   "outputs": [],
   "source": [
    "import sys\n",
    "sys.path.append('../')"
   ]
  },
  {
   "cell_type": "code",
   "execution_count": 7,
   "id": "fbde5730-e3bd-4e0b-8a92-6f4c89fc5bf0",
   "metadata": {},
   "outputs": [],
   "source": [
    "from src.stages.data_prep import DataPrep"
   ]
  },
  {
   "cell_type": "code",
   "execution_count": 6,
   "id": "12c9c066-2328-4428-b572-68776bdc9b74",
   "metadata": {},
   "outputs": [],
   "source": [
    "prep = DataPrep(None)"
   ]
  },
  {
   "cell_type": "code",
   "execution_count": 7,
   "id": "9c73f33b-a164-4258-97e9-f76b3bd772e2",
   "metadata": {},
   "outputs": [],
   "source": [
    "prep.raw_data=df_test"
   ]
  },
  {
   "cell_type": "code",
   "execution_count": 8,
   "id": "173b0eb2-0573-48c3-92ff-927cf67142e4",
   "metadata": {},
   "outputs": [],
   "source": [
    "prep.encoder()\n",
    "prep.loan_grade_prep()\n",
    "prep.default_onfile_prep()\n",
    "prep.subs_char_names()\n",
    "df_final = prep.get_prepdata()"
   ]
  },
  {
   "cell_type": "code",
   "execution_count": 9,
   "id": "9378f11c-b98a-4f29-bdf5-7b2b8516dc5f",
   "metadata": {},
   "outputs": [
    {
     "data": {
      "text/html": [
       "<div>\n",
       "<style scoped>\n",
       "    .dataframe tbody tr th:only-of-type {\n",
       "        vertical-align: middle;\n",
       "    }\n",
       "\n",
       "    .dataframe tbody tr th {\n",
       "        vertical-align: top;\n",
       "    }\n",
       "\n",
       "    .dataframe thead th {\n",
       "        text-align: right;\n",
       "    }\n",
       "</style>\n",
       "<table border=\"1\" class=\"dataframe\">\n",
       "  <thead>\n",
       "    <tr style=\"text-align: right;\">\n",
       "      <th></th>\n",
       "      <th>personage</th>\n",
       "      <th>personincome</th>\n",
       "      <th>personhomeownershipOWN</th>\n",
       "      <th>personhomeownershipRENT</th>\n",
       "      <th>personhomeownershipOTHER</th>\n",
       "      <th>personhomeownershipMORTGAGE</th>\n",
       "      <th>personemplength</th>\n",
       "      <th>loanintentPERSONAL</th>\n",
       "      <th>loanintentEDUCATION</th>\n",
       "      <th>loanintentMEDICAL</th>\n",
       "      <th>loanintentVENTURE</th>\n",
       "      <th>loangrade</th>\n",
       "      <th>loanamount</th>\n",
       "      <th>loanintrate</th>\n",
       "      <th>loanstatus</th>\n",
       "      <th>loanpercentincome</th>\n",
       "      <th>cbpersondefaultonfile</th>\n",
       "      <th>cbpersoncredhistlength</th>\n",
       "    </tr>\n",
       "  </thead>\n",
       "  <tbody>\n",
       "    <tr>\n",
       "      <th>0</th>\n",
       "      <td>25</td>\n",
       "      <td>33000</td>\n",
       "      <td>1</td>\n",
       "      <td>0</td>\n",
       "      <td>0</td>\n",
       "      <td>0</td>\n",
       "      <td>6.0</td>\n",
       "      <td>1</td>\n",
       "      <td>0</td>\n",
       "      <td>0</td>\n",
       "      <td>0</td>\n",
       "      <td>1</td>\n",
       "      <td>6000</td>\n",
       "      <td>16.2</td>\n",
       "      <td>0</td>\n",
       "      <td>0.20</td>\n",
       "      <td>0</td>\n",
       "      <td>3</td>\n",
       "    </tr>\n",
       "    <tr>\n",
       "      <th>1</th>\n",
       "      <td>68</td>\n",
       "      <td>88000</td>\n",
       "      <td>0</td>\n",
       "      <td>1</td>\n",
       "      <td>0</td>\n",
       "      <td>0</td>\n",
       "      <td>15.0</td>\n",
       "      <td>0</td>\n",
       "      <td>1</td>\n",
       "      <td>0</td>\n",
       "      <td>0</td>\n",
       "      <td>2</td>\n",
       "      <td>1500</td>\n",
       "      <td>10.2</td>\n",
       "      <td>1</td>\n",
       "      <td>0.05</td>\n",
       "      <td>0</td>\n",
       "      <td>6</td>\n",
       "    </tr>\n",
       "    <tr>\n",
       "      <th>2</th>\n",
       "      <td>35</td>\n",
       "      <td>25000</td>\n",
       "      <td>0</td>\n",
       "      <td>0</td>\n",
       "      <td>1</td>\n",
       "      <td>0</td>\n",
       "      <td>120.0</td>\n",
       "      <td>0</td>\n",
       "      <td>0</td>\n",
       "      <td>1</td>\n",
       "      <td>0</td>\n",
       "      <td>3</td>\n",
       "      <td>9000</td>\n",
       "      <td>15.8</td>\n",
       "      <td>0</td>\n",
       "      <td>0.42</td>\n",
       "      <td>1</td>\n",
       "      <td>5</td>\n",
       "    </tr>\n",
       "    <tr>\n",
       "      <th>3</th>\n",
       "      <td>41</td>\n",
       "      <td>56000</td>\n",
       "      <td>1</td>\n",
       "      <td>0</td>\n",
       "      <td>0</td>\n",
       "      <td>0</td>\n",
       "      <td>20.0</td>\n",
       "      <td>0</td>\n",
       "      <td>0</td>\n",
       "      <td>0</td>\n",
       "      <td>1</td>\n",
       "      <td>4</td>\n",
       "      <td>3200</td>\n",
       "      <td>14.3</td>\n",
       "      <td>1</td>\n",
       "      <td>0.08</td>\n",
       "      <td>0</td>\n",
       "      <td>4</td>\n",
       "    </tr>\n",
       "    <tr>\n",
       "      <th>4</th>\n",
       "      <td>30</td>\n",
       "      <td>75500</td>\n",
       "      <td>0</td>\n",
       "      <td>0</td>\n",
       "      <td>0</td>\n",
       "      <td>1</td>\n",
       "      <td>18.0</td>\n",
       "      <td>0</td>\n",
       "      <td>0</td>\n",
       "      <td>0</td>\n",
       "      <td>1</td>\n",
       "      <td>5</td>\n",
       "      <td>18000</td>\n",
       "      <td>15.4</td>\n",
       "      <td>0</td>\n",
       "      <td>0.20</td>\n",
       "      <td>1</td>\n",
       "      <td>6</td>\n",
       "    </tr>\n",
       "  </tbody>\n",
       "</table>\n",
       "</div>"
      ],
      "text/plain": [
       "   personage  personincome  personhomeownershipOWN  personhomeownershipRENT  \\\n",
       "0         25         33000                       1                        0   \n",
       "1         68         88000                       0                        1   \n",
       "2         35         25000                       0                        0   \n",
       "3         41         56000                       1                        0   \n",
       "4         30         75500                       0                        0   \n",
       "\n",
       "   personhomeownershipOTHER  personhomeownershipMORTGAGE  personemplength  \\\n",
       "0                         0                            0              6.0   \n",
       "1                         0                            0             15.0   \n",
       "2                         1                            0            120.0   \n",
       "3                         0                            0             20.0   \n",
       "4                         0                            1             18.0   \n",
       "\n",
       "   loanintentPERSONAL  loanintentEDUCATION  loanintentMEDICAL  \\\n",
       "0                   1                    0                  0   \n",
       "1                   0                    1                  0   \n",
       "2                   0                    0                  1   \n",
       "3                   0                    0                  0   \n",
       "4                   0                    0                  0   \n",
       "\n",
       "   loanintentVENTURE  loangrade  loanamount  loanintrate  loanstatus  \\\n",
       "0                  0          1        6000         16.2           0   \n",
       "1                  0          2        1500         10.2           1   \n",
       "2                  0          3        9000         15.8           0   \n",
       "3                  1          4        3200         14.3           1   \n",
       "4                  1          5       18000         15.4           0   \n",
       "\n",
       "   loanpercentincome  cbpersondefaultonfile  cbpersoncredhistlength  \n",
       "0               0.20                      0                       3  \n",
       "1               0.05                      0                       6  \n",
       "2               0.42                      1                       5  \n",
       "3               0.08                      0                       4  \n",
       "4               0.20                      1                       6  "
      ]
     },
     "execution_count": 9,
     "metadata": {},
     "output_type": "execute_result"
    }
   ],
   "source": [
    "df_final"
   ]
  },
  {
   "cell_type": "code",
   "execution_count": 12,
   "id": "394d09d0-755b-4bb9-9199-3d465b7e4828",
   "metadata": {},
   "outputs": [
    {
     "data": {
      "text/plain": [
       "{'personage': [25, 68, 35, 41, 30],\n",
       " 'personincome': [33000, 88000, 25000, 56000, 75500],\n",
       " 'personhomeownershipOWN': [1, 0, 0, 1, 0],\n",
       " 'personhomeownershipRENT': [0, 1, 0, 0, 0],\n",
       " 'personhomeownershipOTHER': [0, 0, 1, 0, 0],\n",
       " 'personhomeownershipMORTGAGE': [0, 0, 0, 0, 1],\n",
       " 'personemplength': [6.0, 15.0, 120.0, 20.0, 18.0],\n",
       " 'loanintentPERSONAL': [1, 0, 0, 0, 0],\n",
       " 'loanintentEDUCATION': [0, 1, 0, 0, 0],\n",
       " 'loanintentMEDICAL': [0, 0, 1, 0, 0],\n",
       " 'loanintentVENTURE': [0, 0, 0, 1, 1],\n",
       " 'loangrade': [1, 2, 3, 4, 5],\n",
       " 'loanamount': [6000, 1500, 9000, 3200, 18000],\n",
       " 'loanintrate': [16.2, 10.2, 15.8, 14.3, 15.4],\n",
       " 'loanstatus': [0, 1, 0, 1, 0],\n",
       " 'loanpercentincome': [0.2, 0.05, 0.42, 0.08, 0.2],\n",
       " 'cbpersondefaultonfile': [0, 0, 1, 0, 1],\n",
       " 'cbpersoncredhistlength': [3, 6, 5, 4, 6]}"
      ]
     },
     "execution_count": 12,
     "metadata": {},
     "output_type": "execute_result"
    }
   ],
   "source": [
    "df_dict = df_final.to_dict(orient='list')\n",
    "\n",
    "df_dict"
   ]
  },
  {
   "cell_type": "code",
   "execution_count": null,
   "id": "723a85e4-12d5-41cf-8384-2970b5d9277d",
   "metadata": {},
   "outputs": [],
   "source": []
  }
 ],
 "metadata": {
  "kernelspec": {
   "display_name": "Python 3 (ipykernel)",
   "language": "python",
   "name": "python3"
  },
  "language_info": {
   "codemirror_mode": {
    "name": "ipython",
    "version": 3
   },
   "file_extension": ".py",
   "mimetype": "text/x-python",
   "name": "python",
   "nbconvert_exporter": "python",
   "pygments_lexer": "ipython3",
   "version": "3.8.10"
  }
 },
 "nbformat": 4,
 "nbformat_minor": 5
}
